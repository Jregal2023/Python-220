{
 "cells": [
  {
   "cell_type": "markdown",
   "id": "bf249e08",
   "metadata": {},
   "source": [
    "13.1 Write the current date as a string to the text file today.txt."
   ]
  },
  {
   "cell_type": "code",
   "execution_count": 17,
   "id": "9b9d8945",
   "metadata": {},
   "outputs": [],
   "source": [
    "from datetime import datetime\n",
    "curDate = datetime.now()\n",
    "dateStr = curDate.isoformat()\n",
    "with open('today.txt', 'wt') as output:\n",
    "    print( dateStr, file = output)"
   ]
  },
  {
   "cell_type": "markdown",
   "id": "bdc7f1b9",
   "metadata": {},
   "source": [
    "13.2 Read the text file today.txt into the string today_string."
   ]
  },
  {
   "cell_type": "code",
   "execution_count": 18,
   "id": "9068c5cb",
   "metadata": {},
   "outputs": [
    {
     "name": "stdout",
     "output_type": "stream",
     "text": [
      "2025-04-25T19:50:33.936763\n",
      "\n"
     ]
    }
   ],
   "source": [
    "from datetime import datetime\n",
    "with open('today.txt', 'r') as file:\n",
    "    today_string = file.read()\n",
    "    print( today_string)"
   ]
  },
  {
   "cell_type": "markdown",
   "id": "fd029bb1",
   "metadata": {},
   "source": [
    "13.3 Parse the date from today_string."
   ]
  },
  {
   "cell_type": "code",
   "execution_count": 25,
   "id": "e01639ef",
   "metadata": {},
   "outputs": [
    {
     "name": "stdout",
     "output_type": "stream",
     "text": [
      "2025-04-25\n"
     ]
    }
   ],
   "source": [
    "from datetime import datetime\n",
    "import time\n",
    "fmt = \"%Y-%m-%d\"\n",
    "with open('today.txt', 'r') as file:\n",
    "    today_string = file.read()\n",
    "    parseDate = datetime.strptime(\"2025-4-25\", fmt)\n",
    "\n",
    "    formatDate = parseDate.strftime(\"%Y-%m-%d\")\n",
    "\n",
    "    print(formatDate)"
   ]
  },
  {
   "cell_type": "markdown",
   "id": "e0e58162",
   "metadata": {},
   "source": [
    "13.4 Create a date object of your day of birth."
   ]
  },
  {
   "cell_type": "code",
   "execution_count": 6,
   "id": "6974a008",
   "metadata": {},
   "outputs": [
    {
     "name": "stdout",
     "output_type": "stream",
     "text": [
      "2004-09-19\n"
     ]
    }
   ],
   "source": [
    "from datetime import date\n",
    "\n",
    "Birthdate = date(2004,9,19)\n",
    "print(Birthdate)"
   ]
  },
  {
   "cell_type": "markdown",
   "id": "58d47b43",
   "metadata": {},
   "source": [
    "15.1 Use multiprocessing to create three separate processes. Make each one wait a random number of seconds between zero and one, print the current time, and then exit."
   ]
  },
  {
   "cell_type": "code",
   "execution_count": 28,
   "id": "216ecac4",
   "metadata": {},
   "outputs": [
    {
     "name": "stdout",
     "output_type": "stream",
     "text": [
      "<Process name='Process-{i+1}' pid=15860 parent=22608 stopped exitcode=1>\n",
      "<Process name='Process-{i+1}' pid=13472 parent=22608 stopped exitcode=1>\n",
      "<Process name='Process-{i+1}' pid=2256 parent=22608 stopped exitcode=1>\n"
     ]
    }
   ],
   "source": [
    "import multiprocessing\n",
    "import os\n",
    "import time \n",
    "import random\n",
    "\n",
    "def number():\n",
    "    wTime = random.uniform(0,1)\n",
    "\n",
    "    time.sleep(wTime)\n",
    "\n",
    "    print(f\"Process {multiprocessing.current_process().name} at {datetime.now().strftime('%Y-%m-%d %H:%M:%S.%f')}\")\n",
    "\n",
    "\n",
    "\n",
    "\n",
    "\n",
    "if __name__ == \"__main__\":\n",
    "    processes = []\n",
    "\n",
    "    for i in range(3):\n",
    "        process = multiprocessing.Process(target= number, name =\"Process-{i+1}\")\n",
    "        processes.append(process)\n",
    "        process.start()\n",
    "\n",
    "    for process in processes:\n",
    "        process.join()\n",
    "        print(process)\n"
   ]
  }
 ],
 "metadata": {
  "kernelspec": {
   "display_name": "Python 3",
   "language": "python",
   "name": "python3"
  },
  "language_info": {
   "codemirror_mode": {
    "name": "ipython",
    "version": 3
   },
   "file_extension": ".py",
   "mimetype": "text/x-python",
   "name": "python",
   "nbconvert_exporter": "python",
   "pygments_lexer": "ipython3",
   "version": "3.13.2"
  }
 },
 "nbformat": 4,
 "nbformat_minor": 5
}
