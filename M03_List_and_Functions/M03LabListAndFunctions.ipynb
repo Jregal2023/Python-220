{
 "cells": [
  {
   "cell_type": "markdown",
   "metadata": {},
   "source": [
    "7.4 Make a list called things with these three strings as elements: \"mozzarella\", \"cinderella\", \"salmonella\"."
   ]
  },
  {
   "cell_type": "code",
   "execution_count": 42,
   "metadata": {},
   "outputs": [],
   "source": [
    "things = [\"mozzerella\", \"cinderella\",\"salmonella\"]"
   ]
  },
  {
   "cell_type": "markdown",
   "metadata": {},
   "source": [
    "7.5 Capitalize the element in things that refers to a person and then print the list. Did it change the element in the list?"
   ]
  },
  {
   "cell_type": "code",
   "execution_count": 43,
   "metadata": {},
   "outputs": [
    {
     "name": "stdout",
     "output_type": "stream",
     "text": [
      "['mozzerella', 'Cinderella', 'salmonella']\n"
     ]
    },
    {
     "data": {
      "text/plain": [
       "'for n in things:\\n    if n == 1:\\n        print(things[1].capitalize())\\n    else:\\n        print(n)\\n'"
      ]
     },
     "execution_count": 43,
     "metadata": {},
     "output_type": "execute_result"
    }
   ],
   "source": [
    "\n",
    "capitalName = things[1].capitalize()\n",
    "\n",
    "things[1] = capitalName\n",
    "print(things)\n",
    "\"\"\"for n in things:\n",
    "    if n == 1:\n",
    "        print(things[1].capitalize())\n",
    "    else:\n",
    "        print(n)\n",
    "\"\"\"\n"
   ]
  },
  {
   "cell_type": "markdown",
   "metadata": {},
   "source": [
    "7.6 Make the cheesy element of things all uppercase and then print the list."
   ]
  },
  {
   "cell_type": "code",
   "execution_count": 44,
   "metadata": {},
   "outputs": [
    {
     "name": "stdout",
     "output_type": "stream",
     "text": [
      "['Mozzerella', 'Cinderella', 'salmonella']\n"
     ]
    }
   ],
   "source": [
    "capitalCheese = things[0].capitalize()\n",
    "things[0] = capitalCheese\n",
    "print(things)"
   ]
  },
  {
   "cell_type": "markdown",
   "metadata": {},
   "source": [
    "9.1 Define a function called good() that returns the following list: ['Harry', 'Ron', 'Hermione']."
   ]
  },
  {
   "cell_type": "code",
   "execution_count": 45,
   "metadata": {},
   "outputs": [
    {
     "name": "stdout",
     "output_type": "stream",
     "text": [
      "['Harry', 'Ron', 'Hermione']\n"
     ]
    }
   ],
   "source": [
    "def good():\n",
    "    names = [\"Harry\",\"Ron\", \"Hermione\"] #damn, copyright infringement\n",
    "    print(names)\n",
    "\n",
    "good()"
   ]
  },
  {
   "cell_type": "markdown",
   "metadata": {},
   "source": [
    "9.2 Define a generator function called get_odds() that returns the odd numbers from range(10). Use a for loop to find and print the third value returned."
   ]
  },
  {
   "cell_type": "code",
   "execution_count": 8,
   "metadata": {},
   "outputs": [
    {
     "name": "stdout",
     "output_type": "stream",
     "text": [
      "print for third number\n",
      "5\n"
     ]
    }
   ],
   "source": [
    "\n",
    "def get_odds(n):\n",
    "    n = 10\n",
    "    for i in range(n):\n",
    "        if i % 2 != 0:\n",
    "           \n",
    "            yield i\n",
    "            #else:\n",
    "           #     print(i)\n",
    "        \n",
    "count = 0\n",
    "get_odds(10)\n",
    "print(\"print for third number\")\n",
    "for i in get_odds(10):\n",
    "    count += 1\n",
    "    if count== 3:\n",
    "        print(i)\n",
    "        break"
   ]
  }
 ],
 "metadata": {
  "kernelspec": {
   "display_name": "Python 3",
   "language": "python",
   "name": "python3"
  },
  "language_info": {
   "codemirror_mode": {
    "name": "ipython",
    "version": 3
   },
   "file_extension": ".py",
   "mimetype": "text/x-python",
   "name": "python",
   "nbconvert_exporter": "python",
   "pygments_lexer": "ipython3",
   "version": "3.13.2"
  }
 },
 "nbformat": 4,
 "nbformat_minor": 2
}
