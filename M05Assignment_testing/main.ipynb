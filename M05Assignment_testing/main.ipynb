{
 "cells": [
  {
   "cell_type": "markdown",
   "id": "a5b855d6",
   "metadata": {},
   "source": [
    "Testing your code part 1:\n"
   ]
  },
  {
   "cell_type": "code",
   "execution_count": 1,
   "id": "53ebe79b",
   "metadata": {},
   "outputs": [
    {
     "name": "stdout",
     "output_type": "stream",
     "text": [
      "Everything passed\n"
     ]
    }
   ],
   "source": [
    "def test_sum():\n",
    "    assert sum([1, 2, 3]) == 6, \"Should be 6\"\n",
    "\n",
    "if __name__ == \"__main__\":\n",
    "    test_sum()\n",
    "    print(\"Everything passed\")"
   ]
  },
  {
   "cell_type": "markdown",
   "id": "386063cb",
   "metadata": {},
   "source": [
    "Test your code part 2: test_sum2.py"
   ]
  },
  {
   "cell_type": "code",
   "execution_count": 9,
   "id": "f748f6be",
   "metadata": {},
   "outputs": [
    {
     "data": {
      "text/plain": [
       "'def test_sum():\\n    assert sum([1, 2, 3]) == 6, \"Should be 6\"\\n\\ndef test_sum_tuple():\\n    assert sum((1, 2, 2)) == 6, \"Should be 6\"\\n\\nif __name__ == \"__main__\":\\n    test_sum()\\n\\n    test_sum_tuple()\\n\\n    print(\"Everything passed\")\\n    signifies this as an error'"
      ]
     },
     "execution_count": 9,
     "metadata": {},
     "output_type": "execute_result"
    }
   ],
   "source": [
    "'''def test_sum():\n",
    "    assert sum([1, 2, 3]) == 6, \"Should be 6\"\n",
    "\n",
    "def test_sum_tuple():\n",
    "    assert sum((1, 2, 2)) == 6, \"Should be 6\"\n",
    "\n",
    "if __name__ == \"__main__\":\n",
    "    test_sum()\n",
    "    \n",
    "    test_sum_tuple()\n",
    "    \n",
    "    print(\"Everything passed\")\n",
    "    signifies this as an error'''"
   ]
  },
  {
   "cell_type": "markdown",
   "id": "1be6c64f",
   "metadata": {},
   "source": [
    "Test Your Code: part 3"
   ]
  },
  {
   "cell_type": "code",
   "execution_count": null,
   "id": "eabb1f99",
   "metadata": {},
   "outputs": [
    {
     "name": "stderr",
     "output_type": "stream",
     "text": [
      "usage: ipykernel_launcher.py [-h] [-v] [-q] [--locals] [--durations N] [-f]\n",
      "                             [-c] [-b] [-k TESTNAMEPATTERNS]\n",
      "                             [tests ...]\n",
      "ipykernel_launcher.py: error: argument -f/--failfast: ignored explicit argument 'c:\\\\Users\\\\sregal\\\\AppData\\\\Roaming\\\\jupyter\\\\runtime\\\\kernel-v3a8656efe372bf7523fb3fda35edb6a87c5ce3bfc.json'\n"
     ]
    },
    {
     "ename": "SystemExit",
     "evalue": "2",
     "output_type": "error",
     "traceback": [
      "An exception has occurred, use %tb to see the full traceback.\n",
      "\u001b[31mSystemExit\u001b[39m\u001b[31m:\u001b[39m 2\n"
     ]
    }
   ],
   "source": [
    "import unittest\n",
    "\n",
    "class TestSum(unittest.TestCase):\n",
    "    def test_sum(self):\n",
    "        self.assertEqual(sum([1, 2, 3]) == 6, \"Should be 6\")\n",
    "\n",
    "    def test_sum_tuple(self):\n",
    "        self.assertEqual(sum((1, 2, 2)), 6, \"Should be 6\")\n",
    "\n",
    "if __name__ == \"__main__\":\n",
    "    unittest.main()\n",
    "  \n",
    "#it works however one of the test purposefully fails    "
   ]
  },
  {
   "cell_type": "markdown",
   "id": "60acaf96",
   "metadata": {},
   "source": [
    "Writing your first Test: part 1"
   ]
  },
  {
   "cell_type": "code",
   "execution_count": null,
   "id": "948c4a00",
   "metadata": {},
   "outputs": [],
   "source": [
    "def sum(arg):\n",
    "    total = 0\n",
    "    for val in arg:\n",
    "        total += val\n",
    "    return total"
   ]
  },
  {
   "cell_type": "markdown",
   "id": "6c7a5689",
   "metadata": {},
   "source": [
    "There are other ways to write a function an example being:\n",
    "target = __import__(\"my_sum.py\")\n",
    "sum = target.sum\n",
    "\n",
    "test.py"
   ]
  },
  {
   "cell_type": "code",
   "execution_count": null,
   "id": "32c1926e",
   "metadata": {},
   "outputs": [],
   "source": [
    "import unittest\n",
    "\n",
    "from my_sum import sum\n",
    "\n",
    "\n",
    "class TestSum(unittest.TestCase):\n",
    "    def test_list_int(self):\n",
    "        \"\"\"\n",
    "        Test that it can sum a list of integers\n",
    "        \"\"\"\n",
    "        data = [1, 2, 3]\n",
    "        result = sum(data)\n",
    "        self.assertEqual(result, 6)\n",
    "\n",
    "if __name__ == '__main__':\n",
    "    unittest.main()"
   ]
  },
  {
   "cell_type": "markdown",
   "id": "bdfbd2c4",
   "metadata": {},
   "source": [
    "Executing your first test!"
   ]
  },
  {
   "cell_type": "code",
   "execution_count": null,
   "id": "1e7e553f",
   "metadata": {},
   "outputs": [
    {
     "ename": "ModuleNotFoundError",
     "evalue": "No module named 'my_sum'",
     "output_type": "error",
     "traceback": [
      "\u001b[31m---------------------------------------------------------------------------\u001b[39m",
      "\u001b[31mModuleNotFoundError\u001b[39m                       Traceback (most recent call last)",
      "\u001b[36mCell\u001b[39m\u001b[36m \u001b[39m\u001b[32mIn[1]\u001b[39m\u001b[32m, line 6\u001b[39m\n\u001b[32m      1\u001b[39m \u001b[38;5;66;03m#if __name__ == '__main__':\u001b[39;00m\n\u001b[32m      2\u001b[39m \u001b[38;5;66;03m#    unittest.main()\u001b[39;00m\n\u001b[32m      4\u001b[39m \u001b[38;5;28;01mimport\u001b[39;00m\u001b[38;5;250m \u001b[39m\u001b[34;01munittest\u001b[39;00m\n\u001b[32m----> \u001b[39m\u001b[32m6\u001b[39m \u001b[38;5;28;01mfrom\u001b[39;00m\u001b[38;5;250m \u001b[39m\u001b[34;01mmy_sum\u001b[39;00m\u001b[38;5;250m \u001b[39m\u001b[38;5;28;01mimport\u001b[39;00m \u001b[38;5;28msum\u001b[39m\n\u001b[32m      9\u001b[39m \u001b[38;5;28;01mclass\u001b[39;00m\u001b[38;5;250m \u001b[39m\u001b[34;01mTestSum\u001b[39;00m(unittest.TestCase):\n\u001b[32m     10\u001b[39m     \u001b[38;5;28;01mdef\u001b[39;00m\u001b[38;5;250m \u001b[39m\u001b[34mtest_list_int\u001b[39m(\u001b[38;5;28mself\u001b[39m):\n",
      "\u001b[31mModuleNotFoundError\u001b[39m: No module named 'my_sum'"
     ]
    }
   ],
   "source": [
    "#if __name__ == '__main__':\n",
    "#    unittest.main()\n",
    "\n",
    "'''import unittest\n",
    "\n",
    "from my_sum import sum\n",
    "\n",
    "\n",
    "class TestSum(unittest.TestCase):\n",
    "    def test_list_int(self):\n",
    "        \"\"\"\n",
    "        Test that it can sum a list of integers\n",
    "        \"\"\"\n",
    "        data = [1, 2, 3]\n",
    "        result = sum(data)\n",
    "        self.assertEqual(result, 6)\n",
    "\n",
    "    def test_list_fraction(self):\n",
    "        \"\"\"\n",
    "        Test that it can sum a list of fractions\n",
    "        \"\"\"\n",
    "        data = [Fraction(1, 4), Fraction(1, 4), Fraction(2, 5)]\n",
    "        result = sum(data)\n",
    "        self.assertEqual(result, 1)\n",
    "\n",
    "if __name__ == '__main__':\n",
    "    unittest.main()'''\n",
    "#code\n"
   ]
  },
  {
   "cell_type": "markdown",
   "id": "c2c52d85",
   "metadata": {},
   "source": [
    "THoughts: I think the unittest is a great way to check for all types of similiar data across different files. For example, if I want a test.py which will provide and look for that naming pattern in the test.py. When I ran the tests, they sometimes returned with errors, most likely due to the fact of some formatting or some issues that need to be corrected. From what was returned I got a few tests that failed, however that is to be excpected so Im not frustrated about that. Overall I'd say the tests were ok, but if I formatted the programs a bit better I might've gotten more success outputs."
   ]
  }
 ],
 "metadata": {
  "kernelspec": {
   "display_name": "Python 3",
   "language": "python",
   "name": "python3"
  },
  "language_info": {
   "codemirror_mode": {
    "name": "ipython",
    "version": 3
   },
   "file_extension": ".py",
   "mimetype": "text/x-python",
   "name": "python",
   "nbconvert_exporter": "python",
   "pygments_lexer": "ipython3",
   "version": "3.13.2"
  }
 },
 "nbformat": 4,
 "nbformat_minor": 5
}
