{
 "cells": [
  {
   "cell_type": "markdown",
   "id": "a5b855d6",
   "metadata": {},
   "source": [
    "Testing your code part 1:\n"
   ]
  },
  {
   "cell_type": "code",
   "execution_count": 1,
   "id": "53ebe79b",
   "metadata": {},
   "outputs": [
    {
     "name": "stdout",
     "output_type": "stream",
     "text": [
      "Everything passed\n"
     ]
    }
   ],
   "source": [
    "def test_sum():\n",
    "    assert sum([1, 2, 3]) == 6, \"Should be 6\"\n",
    "\n",
    "if __name__ == \"__main__\":\n",
    "    test_sum()\n",
    "    print(\"Everything passed\")"
   ]
  },
  {
   "cell_type": "markdown",
   "id": "386063cb",
   "metadata": {},
   "source": [
    "Test your code part 2: test_sum2.py"
   ]
  },
  {
   "cell_type": "code",
   "execution_count": 9,
   "id": "f748f6be",
   "metadata": {},
   "outputs": [
    {
     "data": {
      "text/plain": [
       "'def test_sum():\\n    assert sum([1, 2, 3]) == 6, \"Should be 6\"\\n\\ndef test_sum_tuple():\\n    assert sum((1, 2, 2)) == 6, \"Should be 6\"\\n\\nif __name__ == \"__main__\":\\n    test_sum()\\n\\n    test_sum_tuple()\\n\\n    print(\"Everything passed\")\\n    signifies this as an error'"
      ]
     },
     "execution_count": 9,
     "metadata": {},
     "output_type": "execute_result"
    }
   ],
   "source": [
    "'''def test_sum():\n",
    "    assert sum([1, 2, 3]) == 6, \"Should be 6\"\n",
    "\n",
    "def test_sum_tuple():\n",
    "    assert sum((1, 2, 2)) == 6, \"Should be 6\"\n",
    "\n",
    "if __name__ == \"__main__\":\n",
    "    test_sum()\n",
    "    \n",
    "    test_sum_tuple()\n",
    "    \n",
    "    print(\"Everything passed\")\n",
    "    signifies this as an error'''"
   ]
  },
  {
   "cell_type": "markdown",
   "id": "1be6c64f",
   "metadata": {},
   "source": [
    "Test Your Code: part 3"
   ]
  },
  {
   "cell_type": "code",
   "execution_count": null,
   "id": "eabb1f99",
   "metadata": {},
   "outputs": [
    {
     "name": "stderr",
     "output_type": "stream",
     "text": [
      "usage: ipykernel_launcher.py [-h] [-v] [-q] [--locals] [--durations N] [-f]\n",
      "                             [-c] [-b] [-k TESTNAMEPATTERNS]\n",
      "                             [tests ...]\n",
      "ipykernel_launcher.py: error: argument -f/--failfast: ignored explicit argument 'c:\\\\Users\\\\sregal\\\\AppData\\\\Roaming\\\\jupyter\\\\runtime\\\\kernel-v3a8656efe372bf7523fb3fda35edb6a87c5ce3bfc.json'\n"
     ]
    },
    {
     "ename": "SystemExit",
     "evalue": "2",
     "output_type": "error",
     "traceback": [
      "An exception has occurred, use %tb to see the full traceback.\n",
      "\u001b[31mSystemExit\u001b[39m\u001b[31m:\u001b[39m 2\n"
     ]
    }
   ],
   "source": [
    "import unittest\n",
    "\n",
    "class TestSum(unittest.TestCase):\n",
    "    def test_sum(self):\n",
    "        self.assertEqual(sum([1, 2, 3]) == 6, \"Should be 6\")\n",
    "\n",
    "    def test_sum_tuple(self):\n",
    "        self.assertEqual(sum((1, 2, 2)), 6, \"Should be 6\")\n",
    "\n",
    "if __name__ == \"__main__\":\n",
    "    unittest.main()\n",
    "  \n",
    "#it works however one of the test purposefully fails    "
   ]
  },
  {
   "cell_type": "markdown",
   "id": "60acaf96",
   "metadata": {},
   "source": [
    "Writing your first Test: part 1"
   ]
  },
  {
   "cell_type": "code",
   "execution_count": null,
   "id": "948c4a00",
   "metadata": {},
   "outputs": [],
   "source": [
    "def sum(arg):\n",
    "    total = 0\n",
    "    for val in arg:\n",
    "        total += val\n",
    "    return total"
   ]
  },
  {
   "cell_type": "markdown",
   "id": "6c7a5689",
   "metadata": {},
   "source": [
    "There are other ways to write a function an example being:\n",
    "target = __import__(\"my_sum.py\")\n",
    "sum = target.sum\n",
    "\n",
    "test.py"
   ]
  },
  {
   "cell_type": "code",
   "execution_count": null,
   "id": "32c1926e",
   "metadata": {},
   "outputs": [],
   "source": [
    "import unittest\n",
    "\n",
    "from my_sum import sum\n",
    "\n",
    "\n",
    "class TestSum(unittest.TestCase):\n",
    "    def test_list_int(self):\n",
    "        \"\"\"\n",
    "        Test that it can sum a list of integers\n",
    "        \"\"\"\n",
    "        data = [1, 2, 3]\n",
    "        result = sum(data)\n",
    "        self.assertEqual(result, 6)\n",
    "\n",
    "if __name__ == '__main__':\n",
    "    unittest.main()"
   ]
  },
  {
   "cell_type": "markdown",
   "id": "bdfbd2c4",
   "metadata": {},
   "source": [
    "Executing your first test!"
   ]
  }
 ],
 "metadata": {
  "kernelspec": {
   "display_name": "Python 3",
   "language": "python",
   "name": "python3"
  },
  "language_info": {
   "codemirror_mode": {
    "name": "ipython",
    "version": 3
   },
   "file_extension": ".py",
   "mimetype": "text/x-python",
   "name": "python",
   "nbconvert_exporter": "python",
   "pygments_lexer": "ipython3",
   "version": "3.13.2"
  }
 },
 "nbformat": 4,
 "nbformat_minor": 5
}
